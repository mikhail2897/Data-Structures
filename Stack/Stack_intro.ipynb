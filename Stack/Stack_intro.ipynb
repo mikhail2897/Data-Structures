{
 "cells": [
  {
   "cell_type": "markdown",
   "source": [
    "# Stack"
   ],
   "metadata": {
    "collapsed": false
   },
   "id": "e90e205f8f9aa729"
  },
  {
   "cell_type": "code",
   "execution_count": 12,
   "id": "initial_id",
   "metadata": {
    "collapsed": true,
    "ExecuteTime": {
     "end_time": "2024-01-22T03:22:05.604489Z",
     "start_time": "2024-01-22T03:22:05.600932Z"
    }
   },
   "outputs": [],
   "source": [
    "a = []\n",
    "a.append('India')\n",
    "a.append('China')\n",
    "a.append('USA')\n",
    "a.append('Russia')"
   ]
  },
  {
   "cell_type": "code",
   "outputs": [
    {
     "data": {
      "text/plain": "['India', 'China', 'USA', 'Russia']"
     },
     "execution_count": 13,
     "metadata": {},
     "output_type": "execute_result"
    }
   ],
   "source": [
    "a"
   ],
   "metadata": {
    "collapsed": false,
    "ExecuteTime": {
     "end_time": "2024-01-22T03:22:05.621471Z",
     "start_time": "2024-01-22T03:22:05.609891Z"
    }
   },
   "id": "7dcb472a1f039809",
   "execution_count": 13
  },
  {
   "cell_type": "code",
   "outputs": [
    {
     "data": {
      "text/plain": "'Russia'"
     },
     "execution_count": 14,
     "metadata": {},
     "output_type": "execute_result"
    }
   ],
   "source": [
    "a.pop()"
   ],
   "metadata": {
    "collapsed": false,
    "ExecuteTime": {
     "end_time": "2024-01-22T03:22:05.658492Z",
     "start_time": "2024-01-22T03:22:05.623463Z"
    }
   },
   "id": "8b7affe88c0eb40a",
   "execution_count": 14
  },
  {
   "cell_type": "code",
   "outputs": [
    {
     "data": {
      "text/plain": "'USA'"
     },
     "execution_count": 15,
     "metadata": {},
     "output_type": "execute_result"
    }
   ],
   "source": [
    "a.pop()"
   ],
   "metadata": {
    "collapsed": false,
    "ExecuteTime": {
     "end_time": "2024-01-22T03:22:05.658790Z",
     "start_time": "2024-01-22T03:22:05.631166Z"
    }
   },
   "id": "699a5c1824b12f41",
   "execution_count": 15
  },
  {
   "cell_type": "code",
   "outputs": [
    {
     "data": {
      "text/plain": "['India', 'China']"
     },
     "execution_count": 16,
     "metadata": {},
     "output_type": "execute_result"
    }
   ],
   "source": [
    "a"
   ],
   "metadata": {
    "collapsed": false,
    "ExecuteTime": {
     "end_time": "2024-01-22T03:22:05.659405Z",
     "start_time": "2024-01-22T03:22:05.637935Z"
    }
   },
   "id": "162dc7693e373579",
   "execution_count": 16
  },
  {
   "cell_type": "code",
   "outputs": [
    {
     "data": {
      "text/plain": "'China'"
     },
     "execution_count": 17,
     "metadata": {},
     "output_type": "execute_result"
    }
   ],
   "source": [
    "a[-1]"
   ],
   "metadata": {
    "collapsed": false,
    "ExecuteTime": {
     "end_time": "2024-01-22T03:22:05.728645Z",
     "start_time": "2024-01-22T03:22:05.663207Z"
    }
   },
   "id": "c876023c31e5644b",
   "execution_count": 17
  },
  {
   "cell_type": "markdown",
   "source": [
    "### The issue with using a list as a stack is that list uses dymanic array internally and when it reaches its capacity it will reallocate a big chunk of memory somewhere else in memory area and copy all the elements. For example in below diagram if a list has a capacity of 10 and we try to insert 11th element, it will not allocate new memory in a different memory region, copy all 10 elements and then insert the 11th element. So overhead here is (1) allocate new memory plus (2) copy all existing elements in new memory area"
   ],
   "metadata": {
    "collapsed": false
   },
   "id": "85a3144b7c7f7552"
  },
  {
   "cell_type": "markdown",
   "source": [
    "### To add this picture drag and drop the image into a markdown cell or use the below mentioned syntax in the markdown cell"
   ],
   "metadata": {
    "collapsed": false
   },
   "id": "50fb3f2282c261ce"
  },
  {
   "cell_type": "code",
   "outputs": [],
   "source": [
    "# (![Image description](path/to/image.jpg)"
   ],
   "metadata": {
    "collapsed": false,
    "ExecuteTime": {
     "end_time": "2024-01-22T03:22:05.765545Z",
     "start_time": "2024-01-22T03:22:05.731949Z"
    }
   },
   "id": "a937c4a217497d6c",
   "execution_count": 18
  },
  {
   "cell_type": "markdown",
   "source": [
    "![Image description](/Users/mikhailpinto/Documents/Data-Structures/Stack/dynamic_memory.png)"
   ],
   "metadata": {
    "collapsed": false
   },
   "id": "d8da953bb8f820c5"
  }
 ],
 "metadata": {
  "kernelspec": {
   "display_name": "Python 3",
   "language": "python",
   "name": "python3"
  },
  "language_info": {
   "codemirror_mode": {
    "name": "ipython",
    "version": 2
   },
   "file_extension": ".py",
   "mimetype": "text/x-python",
   "name": "python",
   "nbconvert_exporter": "python",
   "pygments_lexer": "ipython2",
   "version": "2.7.6"
  }
 },
 "nbformat": 4,
 "nbformat_minor": 5
}
