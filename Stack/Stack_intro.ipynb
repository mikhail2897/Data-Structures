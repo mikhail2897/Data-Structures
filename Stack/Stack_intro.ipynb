{
 "cells": [
  {
   "cell_type": "markdown",
   "source": [
    "# Stack"
   ],
   "metadata": {
    "collapsed": false
   },
   "id": "e90e205f8f9aa729"
  },
  {
   "cell_type": "code",
   "execution_count": 56,
   "id": "initial_id",
   "metadata": {
    "collapsed": true,
    "ExecuteTime": {
     "end_time": "2024-01-22T03:48:29.201959Z",
     "start_time": "2024-01-22T03:48:28.981429Z"
    }
   },
   "outputs": [],
   "source": [
    "a = []\n",
    "a.append('India')\n",
    "a.append('China')\n",
    "a.append('USA')\n",
    "a.append('Russia')"
   ]
  },
  {
   "cell_type": "code",
   "outputs": [
    {
     "data": {
      "text/plain": "['India', 'China', 'USA', 'Russia']"
     },
     "execution_count": 57,
     "metadata": {},
     "output_type": "execute_result"
    }
   ],
   "source": [
    "a"
   ],
   "metadata": {
    "collapsed": false,
    "ExecuteTime": {
     "end_time": "2024-01-22T03:48:29.215383Z",
     "start_time": "2024-01-22T03:48:29.155663Z"
    }
   },
   "id": "7dcb472a1f039809",
   "execution_count": 57
  },
  {
   "cell_type": "code",
   "outputs": [
    {
     "data": {
      "text/plain": "'Russia'"
     },
     "execution_count": 58,
     "metadata": {},
     "output_type": "execute_result"
    }
   ],
   "source": [
    "a.pop()"
   ],
   "metadata": {
    "collapsed": false,
    "ExecuteTime": {
     "end_time": "2024-01-22T03:48:29.323465Z",
     "start_time": "2024-01-22T03:48:29.210762Z"
    }
   },
   "id": "8b7affe88c0eb40a",
   "execution_count": 58
  },
  {
   "cell_type": "code",
   "outputs": [
    {
     "data": {
      "text/plain": "'USA'"
     },
     "execution_count": 59,
     "metadata": {},
     "output_type": "execute_result"
    }
   ],
   "source": [
    "a.pop()"
   ],
   "metadata": {
    "collapsed": false,
    "ExecuteTime": {
     "end_time": "2024-01-22T03:48:29.357767Z",
     "start_time": "2024-01-22T03:48:29.326939Z"
    }
   },
   "id": "699a5c1824b12f41",
   "execution_count": 59
  },
  {
   "cell_type": "code",
   "outputs": [
    {
     "data": {
      "text/plain": "['India', 'China']"
     },
     "execution_count": 60,
     "metadata": {},
     "output_type": "execute_result"
    }
   ],
   "source": [
    "a"
   ],
   "metadata": {
    "collapsed": false,
    "ExecuteTime": {
     "end_time": "2024-01-22T03:48:29.404871Z",
     "start_time": "2024-01-22T03:48:29.359305Z"
    }
   },
   "id": "162dc7693e373579",
   "execution_count": 60
  },
  {
   "cell_type": "code",
   "outputs": [
    {
     "data": {
      "text/plain": "'China'"
     },
     "execution_count": 61,
     "metadata": {},
     "output_type": "execute_result"
    }
   ],
   "source": [
    "a[-1]"
   ],
   "metadata": {
    "collapsed": false,
    "ExecuteTime": {
     "end_time": "2024-01-22T03:48:29.435715Z",
     "start_time": "2024-01-22T03:48:29.398660Z"
    }
   },
   "id": "c876023c31e5644b",
   "execution_count": 61
  },
  {
   "cell_type": "markdown",
   "source": [
    "### The issue with using a list as a stack is that list uses dymanic array internally and when it reaches its capacity it will reallocate a big chunk of memory somewhere else in memory area and copy all the elements. For example in below diagram if a list has a capacity of 10 and we try to insert 11th element, it will not allocate new memory in a different memory region, copy all 10 elements and then insert the 11th element. So overhead here is (1) allocate new memory plus (2) copy all existing elements in new memory area"
   ],
   "metadata": {
    "collapsed": false
   },
   "id": "85a3144b7c7f7552"
  },
  {
   "cell_type": "markdown",
   "source": [
    "### To add this picture drag and drop the image into a markdown cell or use the below mentioned syntax in the markdown cell"
   ],
   "metadata": {
    "collapsed": false
   },
   "id": "50fb3f2282c261ce"
  },
  {
   "cell_type": "code",
   "outputs": [],
   "source": [
    "# (![Image description](path/to/image.jpg)"
   ],
   "metadata": {
    "collapsed": false,
    "ExecuteTime": {
     "end_time": "2024-01-22T03:48:29.447372Z",
     "start_time": "2024-01-22T03:48:29.437065Z"
    }
   },
   "id": "a937c4a217497d6c",
   "execution_count": 62
  },
  {
   "cell_type": "markdown",
   "source": [
    "![Image description](/Users/mikhailpinto/Documents/Data-Structures/Stack/dynamic_memory.png)"
   ],
   "metadata": {
    "collapsed": false
   },
   "id": "d8da953bb8f820c5"
  },
  {
   "cell_type": "markdown",
   "source": [
    "## Deque as Stack"
   ],
   "metadata": {
    "collapsed": false
   },
   "id": "ad32b15387802693"
  },
  {
   "cell_type": "code",
   "outputs": [],
   "source": [
    "from collections import deque\n",
    "stack = deque()"
   ],
   "metadata": {
    "collapsed": false,
    "ExecuteTime": {
     "end_time": "2024-01-22T03:48:29.473752Z",
     "start_time": "2024-01-22T03:48:29.448962Z"
    }
   },
   "id": "2f36424aea319345",
   "execution_count": 63
  },
  {
   "cell_type": "code",
   "outputs": [
    {
     "data": {
      "text/plain": "deque([])"
     },
     "execution_count": 64,
     "metadata": {},
     "output_type": "execute_result"
    }
   ],
   "source": [
    "stack"
   ],
   "metadata": {
    "collapsed": false,
    "ExecuteTime": {
     "end_time": "2024-01-22T03:48:29.474502Z",
     "start_time": "2024-01-22T03:48:29.451561Z"
    }
   },
   "id": "b630a4a57a46a877",
   "execution_count": 64
  },
  {
   "cell_type": "code",
   "outputs": [
    {
     "data": {
      "text/plain": "['__add__',\n '__class__',\n '__class_getitem__',\n '__contains__',\n '__copy__',\n '__delattr__',\n '__delitem__',\n '__dir__',\n '__doc__',\n '__eq__',\n '__format__',\n '__ge__',\n '__getattribute__',\n '__getitem__',\n '__getstate__',\n '__gt__',\n '__hash__',\n '__iadd__',\n '__imul__',\n '__init__',\n '__init_subclass__',\n '__iter__',\n '__le__',\n '__len__',\n '__lt__',\n '__mul__',\n '__ne__',\n '__new__',\n '__reduce__',\n '__reduce_ex__',\n '__repr__',\n '__reversed__',\n '__rmul__',\n '__setattr__',\n '__setitem__',\n '__sizeof__',\n '__str__',\n '__subclasshook__',\n 'append',\n 'appendleft',\n 'clear',\n 'copy',\n 'count',\n 'extend',\n 'extendleft',\n 'index',\n 'insert',\n 'maxlen',\n 'pop',\n 'popleft',\n 'remove',\n 'reverse',\n 'rotate']"
     },
     "execution_count": 65,
     "metadata": {},
     "output_type": "execute_result"
    }
   ],
   "source": [
    "dir(stack)"
   ],
   "metadata": {
    "collapsed": false,
    "ExecuteTime": {
     "end_time": "2024-01-22T03:48:29.498735Z",
     "start_time": "2024-01-22T03:48:29.477331Z"
    }
   },
   "id": "283fb30979763c1c",
   "execution_count": 65
  },
  {
   "cell_type": "code",
   "outputs": [],
   "source": [
    "stack.append('India')\n",
    "stack.append('China')\n",
    "stack.append('USA')\n",
    "stack.append('Russia')"
   ],
   "metadata": {
    "collapsed": false,
    "ExecuteTime": {
     "end_time": "2024-01-22T03:48:29.521149Z",
     "start_time": "2024-01-22T03:48:29.500054Z"
    }
   },
   "id": "399772ab1837d62d",
   "execution_count": 66
  },
  {
   "cell_type": "code",
   "outputs": [
    {
     "data": {
      "text/plain": "deque(['India', 'China', 'USA', 'Russia'])"
     },
     "execution_count": 67,
     "metadata": {},
     "output_type": "execute_result"
    }
   ],
   "source": [
    "stack"
   ],
   "metadata": {
    "collapsed": false,
    "ExecuteTime": {
     "end_time": "2024-01-22T03:48:29.521692Z",
     "start_time": "2024-01-22T03:48:29.502827Z"
    }
   },
   "id": "19a198c54ecb93c0",
   "execution_count": 67
  },
  {
   "cell_type": "code",
   "outputs": [
    {
     "data": {
      "text/plain": "'Russia'"
     },
     "execution_count": 68,
     "metadata": {},
     "output_type": "execute_result"
    }
   ],
   "source": [
    "stack.pop()"
   ],
   "metadata": {
    "collapsed": false,
    "ExecuteTime": {
     "end_time": "2024-01-22T03:48:29.531945Z",
     "start_time": "2024-01-22T03:48:29.523447Z"
    }
   },
   "id": "214c61584ee992c4",
   "execution_count": 68
  },
  {
   "cell_type": "code",
   "outputs": [
    {
     "data": {
      "text/plain": "deque(['India', 'China', 'USA'])"
     },
     "execution_count": 69,
     "metadata": {},
     "output_type": "execute_result"
    }
   ],
   "source": [
    "stack"
   ],
   "metadata": {
    "collapsed": false,
    "ExecuteTime": {
     "end_time": "2024-01-22T03:48:29.532570Z",
     "start_time": "2024-01-22T03:48:29.527223Z"
    }
   },
   "id": "8659340525d1c9a",
   "execution_count": 69
  },
  {
   "cell_type": "code",
   "outputs": [
    {
     "data": {
      "text/plain": "'USA'"
     },
     "execution_count": 70,
     "metadata": {},
     "output_type": "execute_result"
    }
   ],
   "source": [
    "stack.pop()"
   ],
   "metadata": {
    "collapsed": false,
    "ExecuteTime": {
     "end_time": "2024-01-22T03:48:29.542029Z",
     "start_time": "2024-01-22T03:48:29.534204Z"
    }
   },
   "id": "13074155ade5b5fc",
   "execution_count": 70
  },
  {
   "cell_type": "code",
   "outputs": [
    {
     "data": {
      "text/plain": "'China'"
     },
     "execution_count": 71,
     "metadata": {},
     "output_type": "execute_result"
    }
   ],
   "source": [
    "stack.pop()"
   ],
   "metadata": {
    "collapsed": false,
    "ExecuteTime": {
     "end_time": "2024-01-22T03:48:29.542783Z",
     "start_time": "2024-01-22T03:48:29.537100Z"
    }
   },
   "id": "9a439f169fc079d",
   "execution_count": 71
  },
  {
   "cell_type": "code",
   "outputs": [
    {
     "data": {
      "text/plain": "'India'"
     },
     "execution_count": 72,
     "metadata": {},
     "output_type": "execute_result"
    }
   ],
   "source": [
    "stack.pop()"
   ],
   "metadata": {
    "collapsed": false,
    "ExecuteTime": {
     "end_time": "2024-01-22T03:48:29.568351Z",
     "start_time": "2024-01-22T03:48:29.543781Z"
    }
   },
   "id": "ca3ab336b05445b7",
   "execution_count": 72
  },
  {
   "cell_type": "code",
   "outputs": [
    {
     "ename": "IndexError",
     "evalue": "pop from an empty deque",
     "output_type": "error",
     "traceback": [
      "\u001B[0;31m---------------------------------------------------------------------------\u001B[0m",
      "\u001B[0;31mIndexError\u001B[0m                                Traceback (most recent call last)",
      "Cell \u001B[0;32mIn[73], line 1\u001B[0m\n\u001B[0;32m----> 1\u001B[0m stack\u001B[38;5;241m.\u001B[39mpop()\n",
      "\u001B[0;31mIndexError\u001B[0m: pop from an empty deque"
     ]
    }
   ],
   "source": [
    "stack.pop()"
   ],
   "metadata": {
    "collapsed": false,
    "ExecuteTime": {
     "end_time": "2024-01-22T03:48:29.569628Z",
     "start_time": "2024-01-22T03:48:29.551200Z"
    }
   },
   "id": "981b55a111e201b7",
   "execution_count": 73
  },
  {
   "cell_type": "markdown",
   "source": [
    "# Stack class using Deque"
   ],
   "metadata": {
    "collapsed": false
   },
   "id": "ef595fae4adb8985"
  },
  {
   "cell_type": "code",
   "outputs": [],
   "source": [
    "class Stack:\n",
    "    def __init__(self):\n",
    "        self.container = deque()\n",
    "    \n",
    "    def push(self, value):\n",
    "        self.container.append(value)\n",
    "    \n",
    "    def pop(self):\n",
    "        return self.container.pop()\n",
    "    \n",
    "    def peek(self):\n",
    "        return self.container[-1]\n",
    "    \n",
    "    def is_empty(self):\n",
    "        return len(self.container) == 0\n",
    "    \n",
    "    def size(self): \n",
    "        return len(self.container)\n",
    "    "
   ],
   "metadata": {
    "collapsed": false,
    "ExecuteTime": {
     "end_time": "2024-01-22T03:48:29.620311Z",
     "start_time": "2024-01-22T03:48:29.570763Z"
    }
   },
   "id": "8556a5830a3c5b10",
   "execution_count": 74
  },
  {
   "cell_type": "code",
   "outputs": [],
   "source": [
    "s = Stack()"
   ],
   "metadata": {
    "collapsed": false,
    "ExecuteTime": {
     "end_time": "2024-01-22T03:48:29.622274Z",
     "start_time": "2024-01-22T03:48:29.579782Z"
    }
   },
   "id": "d93ffb71114a01ca",
   "execution_count": 75
  },
  {
   "cell_type": "code",
   "outputs": [],
   "source": [
    "s.push('India')"
   ],
   "metadata": {
    "collapsed": false,
    "ExecuteTime": {
     "end_time": "2024-01-22T03:48:29.635074Z",
     "start_time": "2024-01-22T03:48:29.625194Z"
    }
   },
   "id": "d38c0ccea32e5c05",
   "execution_count": 76
  },
  {
   "cell_type": "code",
   "outputs": [
    {
     "data": {
      "text/plain": "True"
     },
     "execution_count": 77,
     "metadata": {},
     "output_type": "execute_result"
    }
   ],
   "source": [
    "s.pop()\n",
    "s.is_empty()"
   ],
   "metadata": {
    "collapsed": false,
    "ExecuteTime": {
     "end_time": "2024-01-22T03:48:29.636387Z",
     "start_time": "2024-01-22T03:48:29.629822Z"
    }
   },
   "id": "7a28cf96ed6976f3",
   "execution_count": 77
  },
  {
   "cell_type": "code",
   "outputs": [],
   "source": [
    "s.push('China')\n",
    "s.push('Russia')\n",
    "s.push('USA')"
   ],
   "metadata": {
    "collapsed": false,
    "ExecuteTime": {
     "end_time": "2024-01-22T03:48:29.645263Z",
     "start_time": "2024-01-22T03:48:29.637651Z"
    }
   },
   "id": "f0d7992e3622cd93",
   "execution_count": 78
  },
  {
   "cell_type": "code",
   "outputs": [
    {
     "name": "stdout",
     "output_type": "stream",
     "text": [
      "deque(['China', 'Russia', 'USA'])\n"
     ]
    }
   ],
   "source": [
    "print(s.container)"
   ],
   "metadata": {
    "collapsed": false,
    "ExecuteTime": {
     "end_time": "2024-01-22T03:48:29.646417Z",
     "start_time": "2024-01-22T03:48:29.640577Z"
    }
   },
   "id": "9af2360dc2bb0e15",
   "execution_count": 79
  },
  {
   "cell_type": "code",
   "outputs": [
    {
     "data": {
      "text/plain": "'China'"
     },
     "execution_count": 80,
     "metadata": {},
     "output_type": "execute_result"
    }
   ],
   "source": [
    "s.pop()\n",
    "s.pop()\n",
    "s.pop()"
   ],
   "metadata": {
    "collapsed": false,
    "ExecuteTime": {
     "end_time": "2024-01-22T03:48:29.661792Z",
     "start_time": "2024-01-22T03:48:29.649606Z"
    }
   },
   "id": "a6a4b8f80b860a10",
   "execution_count": 80
  },
  {
   "cell_type": "code",
   "outputs": [
    {
     "ename": "IndexError",
     "evalue": "pop from an empty deque",
     "output_type": "error",
     "traceback": [
      "\u001B[0;31m---------------------------------------------------------------------------\u001B[0m",
      "\u001B[0;31mIndexError\u001B[0m                                Traceback (most recent call last)",
      "Cell \u001B[0;32mIn[81], line 1\u001B[0m\n\u001B[0;32m----> 1\u001B[0m s\u001B[38;5;241m.\u001B[39mpop()\n",
      "Cell \u001B[0;32mIn[74], line 9\u001B[0m, in \u001B[0;36mStack.pop\u001B[0;34m(self)\u001B[0m\n\u001B[1;32m      8\u001B[0m \u001B[38;5;28;01mdef\u001B[39;00m \u001B[38;5;21mpop\u001B[39m(\u001B[38;5;28mself\u001B[39m):\n\u001B[0;32m----> 9\u001B[0m     \u001B[38;5;28;01mreturn\u001B[39;00m \u001B[38;5;28mself\u001B[39m\u001B[38;5;241m.\u001B[39mcontainer\u001B[38;5;241m.\u001B[39mpop()\n",
      "\u001B[0;31mIndexError\u001B[0m: pop from an empty deque"
     ]
    }
   ],
   "source": [
    "s.pop()"
   ],
   "metadata": {
    "collapsed": false,
    "ExecuteTime": {
     "end_time": "2024-01-22T03:48:29.694083Z",
     "start_time": "2024-01-22T03:48:29.664023Z"
    }
   },
   "id": "608e6f06deed85ac",
   "execution_count": 81
  },
  {
   "cell_type": "code",
   "outputs": [],
   "source": [
    "my_deque = deque([1, 2, 3, 4, 5])"
   ],
   "metadata": {
    "collapsed": false,
    "ExecuteTime": {
     "end_time": "2024-01-22T03:50:42.762720Z",
     "start_time": "2024-01-22T03:50:42.759020Z"
    }
   },
   "id": "efd3a2089f50f0b3",
   "execution_count": 82
  },
  {
   "cell_type": "code",
   "outputs": [
    {
     "data": {
      "text/plain": "5"
     },
     "execution_count": 83,
     "metadata": {},
     "output_type": "execute_result"
    }
   ],
   "source": [
    "len(my_deque)"
   ],
   "metadata": {
    "collapsed": false,
    "ExecuteTime": {
     "end_time": "2024-01-22T03:50:44.242307Z",
     "start_time": "2024-01-22T03:50:44.235092Z"
    }
   },
   "id": "4623ad01f53003e9",
   "execution_count": 83
  }
 ],
 "metadata": {
  "kernelspec": {
   "display_name": "Python 3",
   "language": "python",
   "name": "python3"
  },
  "language_info": {
   "codemirror_mode": {
    "name": "ipython",
    "version": 2
   },
   "file_extension": ".py",
   "mimetype": "text/x-python",
   "name": "python",
   "nbconvert_exporter": "python",
   "pygments_lexer": "ipython2",
   "version": "2.7.6"
  }
 },
 "nbformat": 4,
 "nbformat_minor": 5
}
