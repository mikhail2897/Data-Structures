{
 "cells": [
  {
   "cell_type": "markdown",
   "source": [
    "# Hash Map "
   ],
   "metadata": {
    "collapsed": false
   },
   "id": "85d377542632706d"
  },
  {
   "cell_type": "code",
   "execution_count": 53,
   "id": "initial_id",
   "metadata": {
    "collapsed": true,
    "ExecuteTime": {
     "end_time": "2024-01-19T20:33:58.995959Z",
     "start_time": "2024-01-19T20:33:58.972513Z"
    }
   },
   "outputs": [],
   "source": [
    "stock_prices = []\n",
    "with open(\"stock_prices.csv\", \"r\") as file:\n",
    "    for line in file:\n",
    "        tokens = line.split(',')\n",
    "        day = tokens[0]\n",
    "        price = float(tokens[1])\n",
    "        stock_prices.append([day, price])"
   ]
  },
  {
   "cell_type": "code",
   "outputs": [
    {
     "name": "stdout",
     "output_type": "stream",
     "text": [
      "[['march 6', 310.0], ['march 7', 340.0], ['march 8', 380.0], ['march 9', 302.0], ['march 10', 297.0], ['march 11', 323.0]]\n"
     ]
    }
   ],
   "source": [
    "print(stock_prices)"
   ],
   "metadata": {
    "collapsed": false,
    "ExecuteTime": {
     "end_time": "2024-01-19T20:33:59.007116Z",
     "start_time": "2024-01-19T20:33:58.999485Z"
    }
   },
   "id": "d8e45ca556c2df2b",
   "execution_count": 54
  },
  {
   "cell_type": "markdown",
   "source": [
    "## Issue with list is that to look for date which is at the end and you have enormous amounts of data then the Big O would be O(n)"
   ],
   "metadata": {
    "collapsed": false
   },
   "id": "64745091f1429799"
  },
  {
   "cell_type": "code",
   "outputs": [
    {
     "name": "stdout",
     "output_type": "stream",
     "text": [
      "323.0\n"
     ]
    }
   ],
   "source": [
    "for element in stock_prices:\n",
    "    if element[0] == \"march 11\":\n",
    "        print(element[1])"
   ],
   "metadata": {
    "collapsed": false,
    "ExecuteTime": {
     "end_time": "2024-01-19T20:33:59.015459Z",
     "start_time": "2024-01-19T20:33:59.009543Z"
    }
   },
   "id": "da3299a74b9ad95d",
   "execution_count": 55
  },
  {
   "cell_type": "code",
   "outputs": [],
   "source": [
    "stock_prices = {}\n",
    "with open(\"stock_prices.csv\", \"r\") as file1:\n",
    "    for line in file1:\n",
    "        tokens = line.split(',')\n",
    "        day = tokens[0]\n",
    "        price = float(tokens[1])\n",
    "        stock_prices[day] = price"
   ],
   "metadata": {
    "collapsed": false,
    "ExecuteTime": {
     "end_time": "2024-01-19T20:33:59.015759Z",
     "start_time": "2024-01-19T20:33:59.011684Z"
    }
   },
   "id": "bedc5cd7222efe1b",
   "execution_count": 56
  },
  {
   "cell_type": "code",
   "outputs": [
    {
     "name": "stdout",
     "output_type": "stream",
     "text": [
      "{'march 6': 310.0, 'march 7': 340.0, 'march 8': 380.0, 'march 9': 302.0, 'march 10': 297.0, 'march 11': 323.0}\n"
     ]
    }
   ],
   "source": [
    "print(stock_prices)"
   ],
   "metadata": {
    "collapsed": false,
    "ExecuteTime": {
     "end_time": "2024-01-19T20:33:59.017695Z",
     "start_time": "2024-01-19T20:33:59.015713Z"
    }
   },
   "id": "1091b3836e7c083e",
   "execution_count": 57
  },
  {
   "cell_type": "markdown",
   "source": [
    "## When it comes to dictionaries you try to find something specific the order of time to search that value is O(1) as it is always constant as it is always the same."
   ],
   "metadata": {
    "collapsed": false
   },
   "id": "7d001b8e70a775ae"
  },
  {
   "cell_type": "code",
   "outputs": [
    {
     "data": {
      "text/plain": "323.0"
     },
     "execution_count": 58,
     "metadata": {},
     "output_type": "execute_result"
    }
   ],
   "source": [
    "stock_prices['march 11']"
   ],
   "metadata": {
    "collapsed": false,
    "ExecuteTime": {
     "end_time": "2024-01-19T20:33:59.035103Z",
     "start_time": "2024-01-19T20:33:59.018233Z"
    }
   },
   "id": "3bdca83134babf05",
   "execution_count": 58
  },
  {
   "cell_type": "markdown",
   "source": [
    "## Look up by key is O(1) on average. Insertion/Deletion is O(1) on average"
   ],
   "metadata": {
    "collapsed": false
   },
   "id": "f26fba41755f40da"
  },
  {
   "cell_type": "markdown",
   "source": [
    "## Below is the code and explanation of how Hash Maps converts the string key to an index"
   ],
   "metadata": {
    "collapsed": false
   },
   "id": "391fc274901c692b"
  },
  {
   "cell_type": "markdown",
   "source": [
    "The key in the dictionary is taken in as the input and each character of the key is iterated over and we get the ASCII value of each character in the key, we add of the ASCII values of character together and finally do a Mod operation according to the size of the dictionary. Here we are using 10 as an example."
   ],
   "metadata": {
    "collapsed": false
   },
   "id": "5c773fee73d5f116"
  },
  {
   "cell_type": "code",
   "outputs": [],
   "source": [
    "def get_hash_index(key):\n",
    "    h=0\n",
    "    for char in key:\n",
    "        h += ord(char)\n",
    "    return h%10"
   ],
   "metadata": {
    "collapsed": false,
    "ExecuteTime": {
     "end_time": "2024-01-19T20:33:59.035474Z",
     "start_time": "2024-01-19T20:33:59.021677Z"
    }
   },
   "id": "86095db607685dc8",
   "execution_count": 59
  },
  {
   "cell_type": "code",
   "outputs": [
    {
     "data": {
      "text/plain": "2"
     },
     "execution_count": 60,
     "metadata": {},
     "output_type": "execute_result"
    }
   ],
   "source": [
    "get_hash_index('march 9')"
   ],
   "metadata": {
    "collapsed": false,
    "ExecuteTime": {
     "end_time": "2024-01-19T20:33:59.036024Z",
     "start_time": "2024-01-19T20:33:59.023875Z"
    }
   },
   "id": "31ea3be8e60131f0",
   "execution_count": 60
  },
  {
   "cell_type": "code",
   "outputs": [],
   "source": [
    "class HashTable:\n",
    "    def __init__(self):\n",
    "        self.size_of_hash_table = 100\n",
    "        self.arr = [None for i in range(100)]\n",
    "        \n",
    "    def get_hash_index(self, key):\n",
    "        h=0\n",
    "        for char in key:\n",
    "            h += ord(char)\n",
    "        return h % self.size_of_hash_table\n",
    "    \n",
    "    def __setitem__(self, key, value): # setitem is an operator in Python that will allow you to add values to the dictionary like hm['march 10'] = 200.2\n",
    "        h = self.get_hash_index(key)\n",
    "        self.arr[h] = value\n",
    "        return \n",
    "    \n",
    "    def __getitem__(self, key): #getitem is an operator in Python that will allow you to get values in the dictionary like hm['march 10']\n",
    "        h = self.get_hash_index(key)\n",
    "        return self.arr[h]\n",
    "    \n",
    "    def __delitem__(self, key): \n",
    "        h = self.get_hash_index(key)\n",
    "        self.arr[h] = None"
   ],
   "metadata": {
    "collapsed": false,
    "ExecuteTime": {
     "end_time": "2024-01-19T20:33:59.036290Z",
     "start_time": "2024-01-19T20:33:59.027387Z"
    }
   },
   "id": "b5eba0b17e30f4bb",
   "execution_count": 61
  },
  {
   "cell_type": "code",
   "outputs": [
    {
     "data": {
      "text/plain": "56"
     },
     "execution_count": 62,
     "metadata": {},
     "output_type": "execute_result"
    }
   ],
   "source": [
    "hm = HashTable()\n",
    "hm.get_hash_index('march 23')"
   ],
   "metadata": {
    "collapsed": false,
    "ExecuteTime": {
     "end_time": "2024-01-19T20:33:59.036529Z",
     "start_time": "2024-01-19T20:33:59.029294Z"
    }
   },
   "id": "a20cac7daf9c554",
   "execution_count": 62
  },
  {
   "cell_type": "code",
   "outputs": [],
   "source": [
    "hm['march 11'] = 200.9"
   ],
   "metadata": {
    "collapsed": false,
    "ExecuteTime": {
     "end_time": "2024-01-19T20:33:59.036987Z",
     "start_time": "2024-01-19T20:33:59.031362Z"
    }
   },
   "id": "915a242ece22d8f6",
   "execution_count": 63
  },
  {
   "cell_type": "code",
   "outputs": [
    {
     "name": "stdout",
     "output_type": "stream",
     "text": [
      "200.9\n"
     ]
    }
   ],
   "source": [
    "print(hm['march 11'])"
   ],
   "metadata": {
    "collapsed": false,
    "ExecuteTime": {
     "end_time": "2024-01-19T20:33:59.037274Z",
     "start_time": "2024-01-19T20:33:59.033742Z"
    }
   },
   "id": "6ce54e2a9fccc959",
   "execution_count": 64
  },
  {
   "cell_type": "code",
   "outputs": [],
   "source": [
    "del hm['march 11']"
   ],
   "metadata": {
    "collapsed": false,
    "ExecuteTime": {
     "end_time": "2024-01-19T20:33:59.039379Z",
     "start_time": "2024-01-19T20:33:59.036978Z"
    }
   },
   "id": "57b0b2f18dcae765",
   "execution_count": 65
  }
 ],
 "metadata": {
  "kernelspec": {
   "display_name": "Python 3",
   "language": "python",
   "name": "python3"
  },
  "language_info": {
   "codemirror_mode": {
    "name": "ipython",
    "version": 2
   },
   "file_extension": ".py",
   "mimetype": "text/x-python",
   "name": "python",
   "nbconvert_exporter": "python",
   "pygments_lexer": "ipython2",
   "version": "2.7.6"
  }
 },
 "nbformat": 4,
 "nbformat_minor": 5
}
