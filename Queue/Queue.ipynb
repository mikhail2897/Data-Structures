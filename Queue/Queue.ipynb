{
 "cells": [
  {
   "cell_type": "code",
   "execution_count": 4,
   "id": "initial_id",
   "metadata": {
    "collapsed": true,
    "ExecuteTime": {
     "end_time": "2024-01-24T23:47:28.255853Z",
     "start_time": "2024-01-24T23:47:28.240601Z"
    }
   },
   "outputs": [],
   "source": [
    "from collections import deque\n",
    "class Queue:\n",
    "    def __init__(self):\n",
    "        self.buffer = deque()\n",
    "    \n",
    "    def enqueue(self, data):\n",
    "        self.buffer.appendleft(data)\n",
    "    \n",
    "    def dequeue(self):\n",
    "        self.buffer.pop()\n",
    "    \n",
    "    def is_empty(self):\n",
    "        if len(self.buffer) == 0:\n",
    "            raise Exception(\"Queue is empty\")\n",
    "    \n",
    "    def size(self):\n",
    "        return len(self.buffer)"
   ]
  },
  {
   "cell_type": "code",
   "outputs": [],
   "source": [
    "queue = Queue()\n",
    "queue.enqueue(1)\n",
    "queue.enqueue(2)"
   ],
   "metadata": {
    "collapsed": false,
    "ExecuteTime": {
     "end_time": "2024-01-24T23:47:28.256503Z",
     "start_time": "2024-01-24T23:47:28.249865Z"
    }
   },
   "id": "3c5b41aa9c8994d8",
   "execution_count": 5
  },
  {
   "cell_type": "code",
   "outputs": [
    {
     "name": "stdout",
     "output_type": "stream",
     "text": [
      "deque([2, 1])\n"
     ]
    }
   ],
   "source": [
    "print(queue.buffer)"
   ],
   "metadata": {
    "collapsed": false,
    "ExecuteTime": {
     "end_time": "2024-01-24T23:47:28.266251Z",
     "start_time": "2024-01-24T23:47:28.258861Z"
    }
   },
   "id": "c205a6a00a08a46d",
   "execution_count": 6
  },
  {
   "cell_type": "code",
   "outputs": [],
   "source": [
    "queue.dequeue()"
   ],
   "metadata": {
    "collapsed": false,
    "ExecuteTime": {
     "end_time": "2024-01-24T23:47:28.296922Z",
     "start_time": "2024-01-24T23:47:28.261830Z"
    }
   },
   "id": "fd9d05f896a7f74",
   "execution_count": 7
  },
  {
   "cell_type": "code",
   "outputs": [],
   "source": [
    "queue.is_empty()"
   ],
   "metadata": {
    "collapsed": false,
    "ExecuteTime": {
     "end_time": "2024-01-24T23:47:28.301338Z",
     "start_time": "2024-01-24T23:47:28.268558Z"
    }
   },
   "id": "af691d6eb1e57764",
   "execution_count": 8
  },
  {
   "cell_type": "code",
   "outputs": [
    {
     "name": "stdout",
     "output_type": "stream",
     "text": [
      "1\n"
     ]
    }
   ],
   "source": [
    "print(queue.size())"
   ],
   "metadata": {
    "collapsed": false,
    "ExecuteTime": {
     "end_time": "2024-01-24T23:47:28.313206Z",
     "start_time": "2024-01-24T23:47:28.303885Z"
    }
   },
   "id": "323ef4b6ff60e639",
   "execution_count": 9
  }
 ],
 "metadata": {
  "kernelspec": {
   "display_name": "Python 3",
   "language": "python",
   "name": "python3"
  },
  "language_info": {
   "codemirror_mode": {
    "name": "ipython",
    "version": 2
   },
   "file_extension": ".py",
   "mimetype": "text/x-python",
   "name": "python",
   "nbconvert_exporter": "python",
   "pygments_lexer": "ipython2",
   "version": "2.7.6"
  }
 },
 "nbformat": 4,
 "nbformat_minor": 5
}
