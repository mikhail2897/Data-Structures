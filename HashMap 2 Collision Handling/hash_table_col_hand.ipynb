{
 "cells": [
  {
   "cell_type": "markdown",
   "source": [
    "# Hash Map "
   ],
   "metadata": {
    "collapsed": false
   },
   "id": "85d377542632706d"
  },
  {
   "cell_type": "code",
   "outputs": [],
   "source": [
    "stock_prices = {}\n",
    "with open(\"stock_prices.csv\", \"r\") as file1:\n",
    "    for line in file1:\n",
    "        tokens = line.split(',')\n",
    "        day = tokens[0]\n",
    "        price = float(tokens[1])\n",
    "        stock_prices[day] = price"
   ],
   "metadata": {
    "collapsed": false,
    "ExecuteTime": {
     "end_time": "2024-01-20T03:01:06.066206Z",
     "start_time": "2024-01-20T03:01:06.037965Z"
    }
   },
   "id": "bedc5cd7222efe1b",
   "execution_count": 44
  },
  {
   "cell_type": "code",
   "outputs": [
    {
     "name": "stdout",
     "output_type": "stream",
     "text": [
      "{'march 6': 310.0, 'march 7': 340.0, 'march 8': 380.0, 'march 9': 302.0, 'march 10': 297.0, 'march 11': 323.0}\n"
     ]
    }
   ],
   "source": [
    "print(stock_prices)"
   ],
   "metadata": {
    "collapsed": false,
    "ExecuteTime": {
     "end_time": "2024-01-20T03:01:06.077784Z",
     "start_time": "2024-01-20T03:01:06.069015Z"
    }
   },
   "id": "1091b3836e7c083e",
   "execution_count": 45
  },
  {
   "cell_type": "markdown",
   "source": [
    "### The code below does not handle collisions, it will result in issue where when we try to store a certain values and many of the values have the same storing index in the memory the problem of storing those values arises. In the part of Hash Map Collision handling I have mentioned some theory as well as implementation of the solution for the same. "
   ],
   "metadata": {
    "collapsed": false
   },
   "id": "2d8192b011859f39"
  },
  {
   "cell_type": "code",
   "outputs": [],
   "source": [
    "class HashTable:\n",
    "    def __init__(self):\n",
    "        self.size_of_hash_table = 100\n",
    "        self.arr = [None for i in range(100)]\n",
    "        \n",
    "    def get_hash_index(self, key):\n",
    "        h=0\n",
    "        for char in key:\n",
    "            h += ord(char)\n",
    "        return h % self.size_of_hash_table\n",
    "    \n",
    "    def __setitem__(self, key, value): # setitem is an operator in Python that will allow you to add values to the dictionary like hm['march 10'] = 200.2\n",
    "        h = self.get_hash_index(key)\n",
    "        self.arr[h] = value\n",
    "        return \n",
    "    \n",
    "    def __getitem__(self, key): #getitem is an operator in Python that will allow you to get values in the dictionary like hm['march 10']\n",
    "        h = self.get_hash_index(key)\n",
    "        return self.arr[h]\n",
    "    def __delitem__(self, key): \n",
    "        h = self.get_hash_index(key)\n",
    "        self.arr[h] = None"
   ],
   "metadata": {
    "collapsed": false,
    "ExecuteTime": {
     "end_time": "2024-01-20T03:01:06.078190Z",
     "start_time": "2024-01-20T03:01:06.073779Z"
    }
   },
   "id": "b5eba0b17e30f4bb",
   "execution_count": 46
  },
  {
   "cell_type": "code",
   "outputs": [
    {
     "data": {
      "text/plain": "56"
     },
     "execution_count": 47,
     "metadata": {},
     "output_type": "execute_result"
    }
   ],
   "source": [
    "hm = HashTable()\n",
    "hm.get_hash_index('march 23')"
   ],
   "metadata": {
    "collapsed": false,
    "ExecuteTime": {
     "end_time": "2024-01-20T03:01:06.084135Z",
     "start_time": "2024-01-20T03:01:06.080820Z"
    }
   },
   "id": "a20cac7daf9c554",
   "execution_count": 47
  },
  {
   "cell_type": "code",
   "outputs": [],
   "source": [
    "hm['march 11'] = 200.9"
   ],
   "metadata": {
    "collapsed": false,
    "ExecuteTime": {
     "end_time": "2024-01-20T03:01:06.114906Z",
     "start_time": "2024-01-20T03:01:06.085194Z"
    }
   },
   "id": "915a242ece22d8f6",
   "execution_count": 48
  },
  {
   "cell_type": "code",
   "outputs": [
    {
     "name": "stdout",
     "output_type": "stream",
     "text": [
      "200.9\n"
     ]
    }
   ],
   "source": [
    "print(hm['march 11'])"
   ],
   "metadata": {
    "collapsed": false,
    "ExecuteTime": {
     "end_time": "2024-01-20T03:01:06.115422Z",
     "start_time": "2024-01-20T03:01:06.088493Z"
    }
   },
   "id": "6ce54e2a9fccc959",
   "execution_count": 49
  },
  {
   "cell_type": "code",
   "outputs": [],
   "source": [
    "del hm['march 11']"
   ],
   "metadata": {
    "collapsed": false,
    "ExecuteTime": {
     "end_time": "2024-01-20T03:01:06.115982Z",
     "start_time": "2024-01-20T03:01:06.091439Z"
    }
   },
   "id": "57b0b2f18dcae765",
   "execution_count": 50
  },
  {
   "cell_type": "markdown",
   "source": [],
   "metadata": {
    "collapsed": false
   },
   "id": "abf6e8cf0de5c069"
  },
  {
   "cell_type": "markdown",
   "source": [],
   "metadata": {
    "collapsed": false
   },
   "id": "4fa800b89ea07285"
  },
  {
   "cell_type": "markdown",
   "source": [
    "# Hash Map Collision Handling"
   ],
   "metadata": {
    "collapsed": false
   },
   "id": "e1173cd58c6d3c32"
  },
  {
   "cell_type": "markdown",
   "source": [
    "## The solution to the problem of collision handling is \n",
    "- ### Chaining\n",
    "- ### Linear Probing"
   ],
   "metadata": {
    "collapsed": false
   },
   "id": "756e15337ec897fc"
  },
  {
   "cell_type": "markdown",
   "source": [
    "### Chaining\n",
    "- When two keys that are being stored in the dictionary have the same index we create a list/linked list at that index to store all the key value pairs together. So when we try to get the value for a particular key that is chained we need to use a for loop in this case to find this the exact value we want. This has the order of O(n) as going through a list to find a particular value for that key also has a order of O(n).\n",
    "\n",
    "### Linear Probing\n",
    "- To solve the problem with Chaining Liner Probing is used. When 2 keys have the same storing index we handle this collision by storing the new value for the key in the consecutive next position if the next position is also occupied it goes on to the next position till it finds out an index that is not already occupied. In this case as we don't need to iterate over to find a value for a key in case of a collision. The order for this is O(1) as it is always consistent just like a normal dictionary/hash map with no collision."
   ],
   "metadata": {
    "collapsed": false
   },
   "id": "263be0a9535416e4"
  },
  {
   "cell_type": "code",
   "outputs": [],
   "source": [
    "class HashTable:\n",
    "    def __init__(self):\n",
    "        self.size_of_hash_table = 10\n",
    "        self.arr = [[] for i in range(10)] # here we are using empty list as we are storing both key and values pair as we might need to store multiple in that list incase if a collision. If we don't do this and don't handle the collision the old value for the key will be over written by the new value for that key.\n",
    "        \n",
    "    def get_hash_index(self, key):\n",
    "        h=0\n",
    "        for char in key:\n",
    "            h += ord(char)\n",
    "        return h % self.size_of_hash_table\n",
    "    \n",
    "    # We are also handling a case where we already have a key and might need to update the value for the key\n",
    "    def __setitem__(self, key, value): # setitem is an operator in Python that will allow you to add values to the dictionary like hm['march 10'] = 200.2\n",
    "        h = self.get_hash_index(key)\n",
    "        found = False\n",
    "        # Updating the value of a key that is already present in the hash table\n",
    "        for index, element in enumerate(self.arr[h]): # enumerate is used to iterate through values of the array\n",
    "            if len(element) == 2 and element[0] == key:\n",
    "                self.arr[h][index] = (key, value)\n",
    "                found = True\n",
    "                break\n",
    "        # if the key does not exist we store it\n",
    "        if not found:\n",
    "            self.arr[h].append((key, value))\n",
    "    \n",
    "    def __getitem__(self, key): #getitem is an operator in Python that will allow you to get values in the dictionary like hm['march 10']\n",
    "        h = self.get_hash_index(key)\n",
    "        for element in self.arr[h]:\n",
    "            if element[0] == key:\n",
    "                return element[1]\n",
    "    \n",
    "    def __delitem__(self, key): \n",
    "        h = self.get_hash_index(key)\n",
    "        for index, element in enumerate(self.arr[h]):\n",
    "            if element[0] == key:\n",
    "                del self.arr[h][index]"
   ],
   "metadata": {
    "collapsed": false,
    "ExecuteTime": {
     "end_time": "2024-01-20T03:01:06.116793Z",
     "start_time": "2024-01-20T03:01:06.096623Z"
    }
   },
   "id": "5f8ff721cf0cf51e",
   "execution_count": 51
  },
  {
   "cell_type": "code",
   "outputs": [
    {
     "data": {
      "text/plain": "9"
     },
     "execution_count": 52,
     "metadata": {},
     "output_type": "execute_result"
    }
   ],
   "source": [
    "t = HashTable()\n",
    "t.get_hash_index(\"march 6\")"
   ],
   "metadata": {
    "collapsed": false,
    "ExecuteTime": {
     "end_time": "2024-01-20T03:01:06.117408Z",
     "start_time": "2024-01-20T03:01:06.099610Z"
    }
   },
   "id": "73fe55f9dc031622",
   "execution_count": 52
  },
  {
   "cell_type": "code",
   "outputs": [
    {
     "data": {
      "text/plain": "9"
     },
     "execution_count": 53,
     "metadata": {},
     "output_type": "execute_result"
    }
   ],
   "source": [
    "t.get_hash_index(\"march 17\")"
   ],
   "metadata": {
    "collapsed": false,
    "ExecuteTime": {
     "end_time": "2024-01-20T03:01:06.117954Z",
     "start_time": "2024-01-20T03:01:06.103254Z"
    }
   },
   "id": "a05d5badf38d61d8",
   "execution_count": 53
  },
  {
   "cell_type": "code",
   "outputs": [],
   "source": [
    "t[\"march 6\"] = 120\n",
    "t[\"march 8\"] = 67\n",
    "t[\"march 9\"] = 4\n",
    "t[\"march 17\"] = 459"
   ],
   "metadata": {
    "collapsed": false,
    "ExecuteTime": {
     "end_time": "2024-01-20T03:01:06.134887Z",
     "start_time": "2024-01-20T03:01:06.105535Z"
    }
   },
   "id": "adf530561f696dce",
   "execution_count": 54
  },
  {
   "cell_type": "code",
   "outputs": [
    {
     "data": {
      "text/plain": "120"
     },
     "execution_count": 55,
     "metadata": {},
     "output_type": "execute_result"
    }
   ],
   "source": [
    "t[\"march 6\"]"
   ],
   "metadata": {
    "collapsed": false,
    "ExecuteTime": {
     "end_time": "2024-01-20T03:01:06.170081Z",
     "start_time": "2024-01-20T03:01:06.117809Z"
    }
   },
   "id": "f6fb2e659fdebf68",
   "execution_count": 55
  },
  {
   "cell_type": "code",
   "outputs": [
    {
     "data": {
      "text/plain": "[[],\n [('march 8', 67)],\n [('march 9', 4)],\n [],\n [],\n [],\n [],\n [],\n [],\n [('march 6', 120), ('march 17', 459)]]"
     },
     "execution_count": 56,
     "metadata": {},
     "output_type": "execute_result"
    }
   ],
   "source": [
    "t.arr"
   ],
   "metadata": {
    "collapsed": false,
    "ExecuteTime": {
     "end_time": "2024-01-20T03:01:06.182176Z",
     "start_time": "2024-01-20T03:01:06.170924Z"
    }
   },
   "id": "875283702cf55b26",
   "execution_count": 56
  },
  {
   "cell_type": "code",
   "outputs": [],
   "source": [
    "del t['march 6']"
   ],
   "metadata": {
    "collapsed": false,
    "ExecuteTime": {
     "end_time": "2024-01-20T03:01:06.191225Z",
     "start_time": "2024-01-20T03:01:06.183353Z"
    }
   },
   "id": "3722dc4b7169778",
   "execution_count": 57
  },
  {
   "cell_type": "code",
   "outputs": [
    {
     "data": {
      "text/plain": "[[],\n [('march 8', 67)],\n [('march 9', 4)],\n [],\n [],\n [],\n [],\n [],\n [],\n [('march 17', 459)]]"
     },
     "execution_count": 58,
     "metadata": {},
     "output_type": "execute_result"
    }
   ],
   "source": [
    "t.arr"
   ],
   "metadata": {
    "collapsed": false,
    "ExecuteTime": {
     "end_time": "2024-01-20T03:01:06.208829Z",
     "start_time": "2024-01-20T03:01:06.187684Z"
    }
   },
   "id": "f03369adefb905ff",
   "execution_count": 58
  }
 ],
 "metadata": {
  "kernelspec": {
   "display_name": "Python 3",
   "language": "python",
   "name": "python3"
  },
  "language_info": {
   "codemirror_mode": {
    "name": "ipython",
    "version": 2
   },
   "file_extension": ".py",
   "mimetype": "text/x-python",
   "name": "python",
   "nbconvert_exporter": "python",
   "pygments_lexer": "ipython2",
   "version": "2.7.6"
  }
 },
 "nbformat": 4,
 "nbformat_minor": 5
}
