{
 "cells": [
  {
   "cell_type": "markdown",
   "source": [
    "# Excercise"
   ],
   "metadata": {
    "collapsed": false
   },
   "id": "d6a3514a05035f54"
  },
  {
   "cell_type": "markdown",
   "source": [
    "### 1. nyc_weather.csv contains new york city weather for first few days in the month of January. Write a program that can answer following,\n",
    "- What was the average temperature in first week of Jan\n",
    "- What was the maximum temperature in first 10 days of Jan\n",
    "- Figure out data structure that is best for this problem"
   ],
   "metadata": {
    "collapsed": false
   },
   "id": "9b96badb03b0a3fc"
  },
  {
   "cell_type": "code",
   "outputs": [
    {
     "name": "stdout",
     "output_type": "stream",
     "text": [
      "Invalid temperature\n"
     ]
    }
   ],
   "source": [
    "temp = []\n",
    "with open(\"nyc_weather.csv\", \"r\") as file:\n",
    "    for line in file:\n",
    "        token = line.split(',')\n",
    "        try:\n",
    "            temp.append(float(token[1]))\n",
    "        except:\n",
    "            print(\"Invalid temperature\")\n",
    "        "
   ],
   "metadata": {
    "collapsed": false,
    "ExecuteTime": {
     "end_time": "2024-01-21T23:17:24.589636Z",
     "start_time": "2024-01-21T23:17:24.548946Z"
    }
   },
   "id": "7a83581b8edf629b",
   "execution_count": 53
  },
  {
   "cell_type": "code",
   "outputs": [
    {
     "name": "stdout",
     "output_type": "stream",
     "text": [
      "[27.0, 31.0, 23.0, 34.0, 37.0, 38.0, 29.0, 30.0, 35.0, 30.0]\n"
     ]
    }
   ],
   "source": [
    "print(temp)"
   ],
   "metadata": {
    "collapsed": false,
    "ExecuteTime": {
     "end_time": "2024-01-21T23:17:24.603941Z",
     "start_time": "2024-01-21T23:17:24.592614Z"
    }
   },
   "id": "214e00ce6575179a",
   "execution_count": 54
  },
  {
   "cell_type": "markdown",
   "source": [
    "## What was the average temperature in first week of Jan"
   ],
   "metadata": {
    "collapsed": false
   },
   "id": "84594e240b157a5f"
  },
  {
   "cell_type": "code",
   "outputs": [
    {
     "name": "stdout",
     "output_type": "stream",
     "text": [
      "31.285714285714285\n"
     ]
    }
   ],
   "source": [
    "average_first_week = sum(temp[0:7])/len(temp[0:7])\n",
    "print(average_first_week)"
   ],
   "metadata": {
    "collapsed": false,
    "ExecuteTime": {
     "end_time": "2024-01-21T23:17:24.604475Z",
     "start_time": "2024-01-21T23:17:24.598237Z"
    }
   },
   "id": "2c5d3104163e0fe3",
   "execution_count": 55
  },
  {
   "cell_type": "markdown",
   "source": [
    "## What was the maximum temperature in first 10 days of Jan"
   ],
   "metadata": {
    "collapsed": false
   },
   "id": "9d86641f14a709b5"
  },
  {
   "cell_type": "code",
   "outputs": [
    {
     "name": "stdout",
     "output_type": "stream",
     "text": [
      "38.0\n"
     ]
    }
   ],
   "source": [
    "max_temp = max(temp[0:10])\n",
    "print(max_temp)"
   ],
   "metadata": {
    "collapsed": false,
    "ExecuteTime": {
     "end_time": "2024-01-21T23:17:24.643466Z",
     "start_time": "2024-01-21T23:17:24.607671Z"
    }
   },
   "id": "2e7514ccc6d033a2",
   "execution_count": 56
  },
  {
   "cell_type": "markdown",
   "source": [
    "### 2. nyc_weather.csv contains new york city weather for first few days in the month of January. Write a program that can answer following,\n",
    "- What was the temperature on Jan 9?\n",
    "- What was the temperature on Jan 4?\n",
    "- Figure out data structure that is best for this problem"
   ],
   "metadata": {
    "collapsed": false
   },
   "id": "672527d0873d03d5"
  },
  {
   "cell_type": "code",
   "outputs": [
    {
     "name": "stdout",
     "output_type": "stream",
     "text": [
      "Invalid value\n"
     ]
    }
   ],
   "source": [
    "temp_data = {}\n",
    "with open(\"nyc_weather.csv\", \"r\") as file:\n",
    "    for line in file:\n",
    "        token = line.split(',')\n",
    "        date = token[0]\n",
    "        try:\n",
    "            temp_data[date] = float(token[1])\n",
    "        except:\n",
    "            print(\"Invalid value\")"
   ],
   "metadata": {
    "collapsed": false,
    "ExecuteTime": {
     "end_time": "2024-01-21T23:17:24.644899Z",
     "start_time": "2024-01-21T23:17:24.611911Z"
    }
   },
   "id": "f52f6ec8f5dbcb90",
   "execution_count": 57
  },
  {
   "cell_type": "code",
   "outputs": [
    {
     "name": "stdout",
     "output_type": "stream",
     "text": [
      "{'Jan 1': 27.0, 'Jan 2': 31.0, 'Jan 3': 23.0, 'Jan 4': 34.0, 'Jan 5': 37.0, 'Jan 6': 38.0, 'Jan 7': 29.0, 'Jan 8': 30.0, 'Jan 9': 35.0, 'Jan 10': 30.0}\n"
     ]
    }
   ],
   "source": [
    "print(temp_data)"
   ],
   "metadata": {
    "collapsed": false,
    "ExecuteTime": {
     "end_time": "2024-01-21T23:17:24.645820Z",
     "start_time": "2024-01-21T23:17:24.617134Z"
    }
   },
   "id": "155476560def70f7",
   "execution_count": 58
  },
  {
   "cell_type": "markdown",
   "source": [
    "## What was the temperature on Jan 9"
   ],
   "metadata": {
    "collapsed": false
   },
   "id": "6d3781d70859d3e0"
  },
  {
   "cell_type": "code",
   "outputs": [
    {
     "name": "stdout",
     "output_type": "stream",
     "text": [
      "35.0\n"
     ]
    }
   ],
   "source": [
    "print(temp_data['Jan 9'])"
   ],
   "metadata": {
    "collapsed": false,
    "ExecuteTime": {
     "end_time": "2024-01-21T23:17:24.690324Z",
     "start_time": "2024-01-21T23:17:24.650955Z"
    }
   },
   "id": "5fb36976c6ce3922",
   "execution_count": 59
  },
  {
   "cell_type": "markdown",
   "source": [
    "## What was the temperature on Jan 4"
   ],
   "metadata": {
    "collapsed": false
   },
   "id": "219109e6a5c766ec"
  },
  {
   "cell_type": "code",
   "outputs": [
    {
     "name": "stdout",
     "output_type": "stream",
     "text": [
      "34.0\n"
     ]
    }
   ],
   "source": [
    "print(temp_data['Jan 4'])"
   ],
   "metadata": {
    "collapsed": false,
    "ExecuteTime": {
     "end_time": "2024-01-21T23:17:24.714732Z",
     "start_time": "2024-01-21T23:17:24.692207Z"
    }
   },
   "id": "9bd5908f63c0ee89",
   "execution_count": 60
  },
  {
   "cell_type": "markdown",
   "source": [
    "# It is best to use a dictionary/Hash Map as it is easy to create key value pairs. When retrieving data for a specific word order would be O(1) when compared to nested list as it would be order of O(n)"
   ],
   "metadata": {
    "collapsed": false
   },
   "id": "86619d7236e0ddd0"
  },
  {
   "cell_type": "markdown",
   "source": [
    "### 3. poem.txt Contains famous poem \"Road not taken\" by poet Robert Frost. You have to read this file in python and print every word and its count as show below. Think about the best data structure that you can use to solve this problem and figure out why you selected that specific data structure."
   ],
   "metadata": {
    "collapsed": false
   },
   "id": "846d2d03a9da9ac1"
  },
  {
   "cell_type": "code",
   "outputs": [],
   "source": [
    "word_count = {}\n",
    "with open(\"poem.txt\", \"r\") as file:\n",
    "    for line in file:\n",
    "        cleaned_text = line.replace(',', '').replace('.', '').replace('\\n', '').replace('—', '').replace('!', '')\n",
    "        token = cleaned_text.split(' ')\n",
    "        for word in token:\n",
    "            if word == '':\n",
    "                continue\n",
    "            elif word in word_count:\n",
    "                word_count[word] = word_count[word] + 1\n",
    "            else:\n",
    "                word_count[word] = 1"
   ],
   "metadata": {
    "collapsed": false,
    "ExecuteTime": {
     "end_time": "2024-01-21T23:17:24.783178Z",
     "start_time": "2024-01-21T23:17:24.717524Z"
    }
   },
   "id": "dc83645f005671c",
   "execution_count": 61
  },
  {
   "cell_type": "code",
   "outputs": [
    {
     "name": "stdout",
     "output_type": "stream",
     "text": [
      "{'Two': 2, 'roads': 2, 'diverged': 2, 'in': 3, 'a': 3, 'yellow': 1, 'wood': 2, 'And': 6, 'sorry': 1, 'I': 9, 'could': 2, 'not': 1, 'travel': 1, 'both': 2, 'be': 2, 'one': 3, 'traveler': 1, 'long': 1, 'stood': 1, 'looked': 1, 'down': 1, 'as': 5, 'far': 1, 'To': 1, 'where': 1, 'it': 2, 'bent': 1, 'the': 8, 'undergrowth;': 1, 'Then': 1, 'took': 2, 'other': 1, 'just': 1, 'fair': 1, 'having': 1, 'perhaps': 1, 'better': 1, 'claim': 1, 'Because': 1, 'was': 1, 'grassy': 1, 'and': 3, 'wanted': 1, 'wear;': 1, 'Though': 1, 'for': 2, 'that': 3, 'passing': 1, 'there': 1, 'Had': 1, 'worn': 1, 'them': 1, 'really': 1, 'about': 1, 'same': 1, 'morning': 1, 'equally': 1, 'lay': 1, 'In': 1, 'leaves': 1, 'no': 1, 'step': 1, 'had': 1, 'trodden': 1, 'black': 1, 'Oh': 1, 'kept': 1, 'first': 1, 'another': 1, 'day': 1, 'Yet': 1, 'knowing': 1, 'how': 1, 'way': 2, 'leads': 1, 'on': 1, 'to': 1, 'doubted': 1, 'if': 1, 'should': 1, 'ever': 1, 'come': 1, 'back': 1, 'shall': 1, 'telling': 1, 'this': 1, 'with': 1, 'sigh': 1, 'Somewhere': 1, 'ages': 2, 'hence:': 1, 'less': 1, 'traveled': 1, 'by': 1, 'has': 1, 'made': 1, 'all': 1, 'difference': 1}\n"
     ]
    }
   ],
   "source": [
    "print(word_count)"
   ],
   "metadata": {
    "collapsed": false,
    "ExecuteTime": {
     "end_time": "2024-01-21T23:17:24.785577Z",
     "start_time": "2024-01-21T23:17:24.775228Z"
    }
   },
   "id": "d3c1adf7c93324cd",
   "execution_count": 62
  },
  {
   "cell_type": "markdown",
   "source": [
    "# It is best to use a dictionary/Hash Map as it is easy to create key value pairs. When retrieving data for a specific word order would be O(1) when compared to nested list as it would be order of O(n)"
   ],
   "metadata": {
    "collapsed": false
   },
   "id": "42ba2331c134990e"
  },
  {
   "cell_type": "markdown",
   "source": [
    "## 4. Implement hash table where collisions are handled using linear probing. We learnt about linear probing in the video tutorial. Take the hash table implementation that uses chaining and modify methods to use linear probing. Keep MAX size of arr in hashtable as 10."
   ],
   "metadata": {
    "collapsed": false
   },
   "id": "f2aa30402e1741c8"
  },
  {
   "cell_type": "code",
   "outputs": [],
   "source": [
    "class HashTable:\n",
    "    def __init__(self):\n",
    "        self.MAX = 10\n",
    "        self.arr = [None for i in range(self.MAX)]\n",
    "    \n",
    "    def get_hash(self, key):\n",
    "        h = 0\n",
    "        for char in key:\n",
    "            h = h + ord(char)\n",
    "        return h % self.MAX\n",
    "    \n",
    "    def get_prob_range(self, index): # This will give you all the index values in our hashtable array that we have created\n",
    "        return [*range(index, len(self.arr))] + [*range(0, index)]\n",
    "    \n",
    "    def __getitem__(self, key):\n",
    "        h = self.get_hash(key)\n",
    "        if self.arr[h] is None:\n",
    "            return \n",
    "        prob_range = self.get_prob_range(h)\n",
    "        for prob_idx in prob_range:\n",
    "            element = self.arr[prob_idx]\n",
    "            if element is None:\n",
    "                return\n",
    "            if element[0] == key:\n",
    "                return element[1]\n",
    "            \n",
    "    def __setitem__(self, key, value):\n",
    "        h = self.get_hash(key)\n",
    "        if self.arr[h] is None:\n",
    "            self.arr[h] = (key, value)\n",
    "        else:\n",
    "            h_n = self.find_slot(key, h)\n",
    "            self.arr[h_n] = (key, value)\n",
    "        print(self.arr)\n",
    "    \n",
    "    def find_slot(self, key, index):\n",
    "        prob_range = self.get_prob_range(index)\n",
    "        for prob_idx in prob_range:\n",
    "            if self.arr[prob_idx] is None:\n",
    "                return prob_idx\n",
    "            if self.arr[prob_idx][0] == key:\n",
    "                return prob_idx\n",
    "        raise Exception('Hashmap full')\n",
    "    \n",
    "    def __delitem__(self, key):\n",
    "        h = self.get_hash(key)\n",
    "        prob_range = self.get_prob_range(h)\n",
    "        for prob_idx in prob_range:\n",
    "            if self.arr[prob_idx] is None:\n",
    "                return\n",
    "            if self.arr[prob_idx][0] == key:\n",
    "                self.arr[prob_idx] = None\n",
    "        print(self.arr)\n",
    "        "
   ],
   "metadata": {
    "collapsed": false,
    "ExecuteTime": {
     "end_time": "2024-01-21T23:17:24.823903Z",
     "start_time": "2024-01-21T23:17:24.802537Z"
    }
   },
   "id": "5a5dd2f70361980f",
   "execution_count": 63
  },
  {
   "cell_type": "code",
   "outputs": [
    {
     "name": "stdout",
     "output_type": "stream",
     "text": [
      "[None, None, None, None, None, None, None, None, None, ('march 6', 20)]\n",
      "[('march 17', 88), None, None, None, None, None, None, None, None, ('march 6', 20)]\n",
      "10\n"
     ]
    }
   ],
   "source": [
    "hm = HashTable()\n",
    "hm['march 6'] = 20\n",
    "hm['march 17'] = 88\n",
    "#print(hm.arr)\n",
    "print(len(hm.arr))"
   ],
   "metadata": {
    "collapsed": false,
    "ExecuteTime": {
     "end_time": "2024-01-21T23:17:24.825144Z",
     "start_time": "2024-01-21T23:17:24.811592Z"
    }
   },
   "id": "7a64a14a7cf1d533",
   "execution_count": 64
  },
  {
   "cell_type": "code",
   "outputs": [
    {
     "name": "stdout",
     "output_type": "stream",
     "text": [
      "[('march 17', 88), None, None, None, None, None, None, None, None, ('march 6', 40)]\n"
     ]
    }
   ],
   "source": [
    "hm['march 6'] = 40"
   ],
   "metadata": {
    "collapsed": false,
    "ExecuteTime": {
     "end_time": "2024-01-21T23:17:24.847752Z",
     "start_time": "2024-01-21T23:17:24.826977Z"
    }
   },
   "id": "d9a81e059c3f9c73",
   "execution_count": 65
  },
  {
   "cell_type": "code",
   "outputs": [
    {
     "name": "stdout",
     "output_type": "stream",
     "text": [
      "[('march 17', 88), None, None, None, None, None, ('march 14', 30), None, None, ('march 6', 40)]\n",
      "[('march 17', 88), ('march 7', 20), None, None, None, None, ('march 14', 30), None, None, ('march 6', 40)]\n",
      "[('march 17', 88), ('march 7', 20), ('march 8', 1000), None, None, None, ('march 14', 30), None, None, ('march 6', 40)]\n",
      "[('march 17', 88), ('march 7', 20), ('march 8', 1000), ('march 9', 4000), None, None, ('march 14', 30), None, None, ('march 6', 40)]\n",
      "[('march 17', 88), ('march 7', 20), ('march 8', 1000), ('march 9', 4000), ('march 10', 499), None, ('march 14', 30), None, None, ('march 6', 40)]\n",
      "[('march 17', 88), ('march 7', 20), ('march 8', 1000), ('march 9', 4000), ('march 10', 499), ('march 11', 490), ('march 14', 30), None, None, ('march 6', 40)]\n",
      "[('march 17', 88), ('march 7', 20), ('march 8', 1000), ('march 9', 4000), ('march 10', 499), ('march 11', 490), ('march 14', 30), ('march 12', 432), None, ('march 6', 40)]\n",
      "[('march 17', 88), ('march 7', 20), ('march 8', 1000), ('march 9', 4000), ('march 10', 499), ('march 11', 490), ('march 14', 30), ('march 12', 432), ('march 13', 100), ('march 6', 40)]\n"
     ]
    }
   ],
   "source": [
    "hm['march 14'] = 30\n",
    "hm['march 7'] = 20\n",
    "hm['march 8'] = 1000\n",
    "hm['march 9'] = 4000\n",
    "hm['march 10'] = 499\n",
    "hm['march 11'] = 490\n",
    "hm['march 12'] = 432\n",
    "hm['march 13'] = 100\n"
   ],
   "metadata": {
    "collapsed": false,
    "ExecuteTime": {
     "end_time": "2024-01-21T23:17:24.864362Z",
     "start_time": "2024-01-21T23:17:24.843963Z"
    }
   },
   "id": "6b7fae239b8edada",
   "execution_count": 66
  },
  {
   "cell_type": "code",
   "outputs": [
    {
     "ename": "Exception",
     "evalue": "Hashmap full",
     "output_type": "error",
     "traceback": [
      "\u001B[0;31m---------------------------------------------------------------------------\u001B[0m",
      "\u001B[0;31mException\u001B[0m                                 Traceback (most recent call last)",
      "Cell \u001B[0;32mIn[67], line 1\u001B[0m\n\u001B[0;32m----> 1\u001B[0m hm[\u001B[38;5;124m'\u001B[39m\u001B[38;5;124mmarch 15\u001B[39m\u001B[38;5;124m'\u001B[39m] \u001B[38;5;241m=\u001B[39m \u001B[38;5;241m10\u001B[39m\n",
      "Cell \u001B[0;32mIn[63], line 32\u001B[0m, in \u001B[0;36mHashTable.__setitem__\u001B[0;34m(self, key, value)\u001B[0m\n\u001B[1;32m     30\u001B[0m     \u001B[38;5;28mself\u001B[39m\u001B[38;5;241m.\u001B[39marr[h] \u001B[38;5;241m=\u001B[39m (key, value)\n\u001B[1;32m     31\u001B[0m \u001B[38;5;28;01melse\u001B[39;00m:\n\u001B[0;32m---> 32\u001B[0m     h_n \u001B[38;5;241m=\u001B[39m \u001B[38;5;28mself\u001B[39m\u001B[38;5;241m.\u001B[39mfind_slot(key, h)\n\u001B[1;32m     33\u001B[0m     \u001B[38;5;28mself\u001B[39m\u001B[38;5;241m.\u001B[39marr[h_n] \u001B[38;5;241m=\u001B[39m (key, value)\n\u001B[1;32m     34\u001B[0m \u001B[38;5;28mprint\u001B[39m(\u001B[38;5;28mself\u001B[39m\u001B[38;5;241m.\u001B[39marr)\n",
      "Cell \u001B[0;32mIn[63], line 43\u001B[0m, in \u001B[0;36mHashTable.find_slot\u001B[0;34m(self, key, index)\u001B[0m\n\u001B[1;32m     41\u001B[0m     \u001B[38;5;28;01mif\u001B[39;00m \u001B[38;5;28mself\u001B[39m\u001B[38;5;241m.\u001B[39marr[prob_idx][\u001B[38;5;241m0\u001B[39m] \u001B[38;5;241m==\u001B[39m key:\n\u001B[1;32m     42\u001B[0m         \u001B[38;5;28;01mreturn\u001B[39;00m prob_idx\n\u001B[0;32m---> 43\u001B[0m \u001B[38;5;28;01mraise\u001B[39;00m \u001B[38;5;167;01mException\u001B[39;00m(\u001B[38;5;124m'\u001B[39m\u001B[38;5;124mHashmap full\u001B[39m\u001B[38;5;124m'\u001B[39m)\n",
      "\u001B[0;31mException\u001B[0m: Hashmap full"
     ]
    }
   ],
   "source": [
    "hm['march 15'] = 10"
   ],
   "metadata": {
    "collapsed": false,
    "ExecuteTime": {
     "end_time": "2024-01-21T23:17:24.905519Z",
     "start_time": "2024-01-21T23:17:24.872750Z"
    }
   },
   "id": "96b525ec6e3e7595",
   "execution_count": 67
  },
  {
   "cell_type": "code",
   "outputs": [],
   "source": [
    "del hm['march 12']"
   ],
   "metadata": {
    "collapsed": false,
    "ExecuteTime": {
     "end_time": "2024-01-21T23:17:52.309706Z",
     "start_time": "2024-01-21T23:17:52.290811Z"
    }
   },
   "id": "622e294026f6645f",
   "execution_count": 69
  },
  {
   "cell_type": "code",
   "outputs": [
    {
     "name": "stdout",
     "output_type": "stream",
     "text": [
      "[('march 17', 88), ('march 7', 20), ('march 8', 1000), ('march 9', 4000), ('march 10', 499), ('march 11', 490), ('march 14', 30), None, None, ('march 6', 40)]\n"
     ]
    }
   ],
   "source": [
    "print(hm.arr)"
   ],
   "metadata": {
    "collapsed": false,
    "ExecuteTime": {
     "end_time": "2024-01-21T23:18:06.338312Z",
     "start_time": "2024-01-21T23:18:06.335309Z"
    }
   },
   "id": "db69529b1720e897",
   "execution_count": 70
  }
 ],
 "metadata": {
  "kernelspec": {
   "display_name": "Python 3",
   "language": "python",
   "name": "python3"
  },
  "language_info": {
   "codemirror_mode": {
    "name": "ipython",
    "version": 2
   },
   "file_extension": ".py",
   "mimetype": "text/x-python",
   "name": "python",
   "nbconvert_exporter": "python",
   "pygments_lexer": "ipython2",
   "version": "2.7.6"
  }
 },
 "nbformat": 4,
 "nbformat_minor": 5
}
